{
 "cells": [
  {
   "cell_type": "code",
   "execution_count": 5,
   "metadata": {},
   "outputs": [
    {
     "name": "stdout",
     "output_type": "stream",
     "text": [
      "20.0\n",
      "\n",
      "  ___ ___ ___ _ _ _  \n",
      " |   |   |_  | | | | \n",
      " | | | | | . | | | | \n",
      " |__ |  _|___|_____|  1.5.1\n",
      " |___|_|             \n",
      "\n",
      "User:   drg@forsite\n",
      "Date:   Thu Apr  4 17:21:59 2019\n",
      "Arch:   x86_64\n",
      "Pid:    18485\n",
      "Python: 3.6.7\n",
      "gpaw:   /usr/local/lib/python3.6/dist-packages/gpaw\n",
      "_gpaw:  /usr/local/lib/python3.6/dist-packages/\n",
      "        _gpaw.cpython-36m-x86_64-linux-gnu.so\n",
      "ase:    /home/drg/.local/lib/python3.6/site-packages/ase (version 3.17.0)\n",
      "numpy:  /home/drg/.local/lib/python3.6/site-packages/numpy (version 1.16.2)\n",
      "scipy:  /home/drg/.local/lib/python3.6/site-packages/scipy (version 1.2.1)\n",
      "units:  Angstrom and eV\n",
      "cores:  1\n",
      "\n",
      "Input parameters:\n",
      "  kpts: {size: (4, 4, 1)}\n",
      "  mode: {ecut: 600.0,\n",
      "         gammacentered: False,\n",
      "         name: pw}\n",
      "  occupations: {name: fermi-dirac,\n",
      "                width: 0.0001}\n",
      "  setups: sg15\n",
      "  xc: PBE\n",
      "\n",
      "System changes: positions, numbers, cell, pbc, initial_charges, initial_magmoms \n",
      "\n",
      "Initialize ...\n",
      "\n",
      "Norm-conserving UPF setup:\n",
      "  Element:    B\n",
      "  Z:          5\n",
      "  Valence:  3.0\n",
      "Projectors:\n",
      "  l=0 rcut=1.93\n",
      "  l=0 rcut=1.93\n",
      "  l=1 rcut=1.93\n",
      "  l=1 rcut=1.93\n",
      "No states stored on this setup\n",
      "Local potential cutoff: 2.14\n",
      "Comp charge cutoff:     2.14\n",
      "File: /usr/local/sg15_oncv_upf_2015-10-07/B_ONCV_PBE-1.0.upf\n",
      "\n",
      "  LCAO basis set for B:\n",
      "    Name: atompaw.sz\n",
      "    This basis set was not loaded from a file\n",
      "    Number of radial functions: 2\n",
      "    Number of spherical harmonics: 4\n",
      "      l=0, rc=8.9500 Bohr: s0 e=-0.344 f=2.000\n",
      "      l=1, rc=8.9500 Bohr: p0 e=-0.132 f=1.000\n",
      "\n",
      "Norm-conserving UPF setup:\n",
      "  Element:    N\n",
      "  Z:          7\n",
      "  Valence:  5.0\n",
      "Projectors:\n",
      "  l=0 rcut=1.63\n",
      "  l=0 rcut=1.63\n",
      "  l=1 rcut=1.63\n",
      "  l=1 rcut=1.63\n",
      "No states stored on this setup\n",
      "Local potential cutoff: 1.44\n",
      "Comp charge cutoff:     1.44\n",
      "File: /usr/local/sg15_oncv_upf_2015-10-07/N_ONCV_PBE-1.0.upf\n",
      "\n",
      "  LCAO basis set for N:\n",
      "    Name: atompaw.sz\n",
      "    This basis set was not loaded from a file\n",
      "    Number of radial functions: 2\n",
      "    Number of spherical harmonics: 4\n",
      "      l=0, rc=8.9500 Bohr: s0 e=-0.683 f=2.000\n",
      "      l=1, rc=8.9500 Bohr: p0 e=-0.263 f=3.000\n",
      "\n",
      "Reference energy: 0.000000\n",
      "\n",
      "Spin-paired calculation\n",
      "\n",
      "Occupation numbers:\n",
      "  Fermi-Dirac: width=0.0001 eV\n",
      "\n",
      "Convergence criteria:\n",
      "  Maximum total energy change: 0.0005 eV / electron\n",
      "  Maximum integral of absolute density change: 0.0001 electrons\n",
      "  Maximum integral of absolute eigenstate change: 4e-08 eV^2\n",
      "  Maximum number of iterations: 333\n",
      "\n",
      "Symmetries present (total): 4\n",
      "\n",
      "  ( 1  1  0)  ( 1  1  0)  ( 1  0  0)  ( 1  0  0)\n",
      "  ( 0 -1  0)  ( 0 -1  0)  ( 0  1  0)  ( 0  1  0)\n",
      "  ( 0  0  1)  ( 0  0 -1)  ( 0  0  1)  ( 0  0 -1)\n",
      "Note: your k-points are not as symmetric as your crystal!\n",
      "\n",
      "16 k-points: 4 x 4 x 1 Monkhorst-Pack grid\n",
      "8 k-points in the irreducible part of the Brillouin zone\n",
      "       k-points in crystal coordinates                weights\n",
      "   0:     0.12500000   -0.37500000    0.00000000          2/16\n",
      "   1:     0.12500000   -0.12500000    0.00000000          2/16\n",
      "   2:     0.12500000    0.12500000    0.00000000          2/16\n",
      "   3:     0.12500000    0.37500000    0.00000000          2/16\n",
      "   4:     0.37500000   -0.37500000    0.00000000          2/16\n",
      "   5:     0.37500000   -0.12500000    0.00000000          2/16\n",
      "   6:     0.37500000    0.12500000    0.00000000          2/16\n",
      "   7:     0.37500000    0.37500000    0.00000000          2/16\n",
      "\n",
      "Wave functions: Plane wave expansion\n",
      "  Cutoff energy: 600.000 eV\n",
      "  Number of coefficients (min, max): 3587, 3697\n",
      "  Pulay-stress correction: 0.000000 eV/Ang^3 (de/decut=0.000000)\n",
      "  Using FFTW library\n",
      "  ScaLapack parameters: grid=1x1, blocksize=None\n",
      "  Wavefunction extrapolation:\n",
      "    Improved wavefunction reuse through dual PAW basis \n",
      "\n",
      "Eigensolver\n",
      "   Davidson(niter=2, smin=None, normalize=True) \n",
      "\n",
      "Densities:\n",
      "  Coarse grid: 12*12*120 grid\n",
      "  Fine grid: 24*24*240 grid\n",
      "  Total Charge: 0.000000 \n",
      "\n",
      "Density mixing:\n",
      "  Method: separate\n",
      "  Backend: pulay\n",
      "  Linear mixing parameter: 0.05\n",
      "  Mixing with 5 old densities\n",
      "  Damping of long wave oscillations: 50 \n",
      "\n",
      "Hamiltonian:\n",
      "  XC and Coulomb potentials evaluated on a 24*24*240 grid\n",
      "  Using the PBE Exchange-Correlation functional\n",
      " \n",
      "\n",
      "XC parameters: PBE with 2 nearest neighbor stencil\n",
      "\n",
      "Memory estimate:\n",
      "  Process memory now: 338.93 MiB\n",
      "  Calculator: 15.83 MiB\n",
      "    Density: 5.36 MiB\n",
      "      Arrays: 3.43 MiB\n",
      "      Localized functions: 0.61 MiB\n",
      "      Mixer: 1.32 MiB\n",
      "    Hamiltonian: 2.31 MiB\n",
      "      Arrays: 2.24 MiB\n",
      "      XC: 0.00 MiB\n",
      "      Poisson: 0.00 MiB\n",
      "      vbar: 0.07 MiB\n",
      "    Wavefunctions: 8.15 MiB\n",
      "      Arrays psit_nG: 3.61 MiB\n",
      "      Eigensolver: 0.74 MiB\n",
      "      Projections: 0.02 MiB\n",
      "      Projectors: 2.67 MiB\n",
      "      PW-descriptor: 1.11 MiB\n",
      "\n",
      "Total number of cores used: 1\n",
      "\n",
      "Number of atoms: 2\n",
      "Number of atomic orbitals: 8\n",
      "Number of bands in calculation: 8\n",
      "Bands to converge: occupied states only\n",
      "Number of valence electrons: 8.0\n",
      "\n",
      "... initialized\n",
      "\n",
      "Initializing position-dependent things.\n",
      "\n",
      "Density initialized from atomic densities\n",
      "Creating initial wave functions:\n",
      "  8 bands from LCAO basis set\n",
      "\n",
      "                 \n",
      "                 \n",
      "                 \n",
      "                 \n",
      "       BN        \n",
      "                 \n",
      "                 \n",
      "                 \n",
      "                 \n",
      "\n",
      "Positions:\n",
      "   0 B      0.628258    0.362725   10.000000    ( 0.0000,  0.0000,  0.0000)\n",
      "   1 N      0.628232    1.813580   10.000000    ( 0.0000,  0.0000,  0.0000)\n",
      "\n",
      "Unit cell:\n",
      "           periodic     x           y           z      points  spacing\n",
      "  1. axis:    yes    2.512980    0.000000    0.000000    12     0.1814\n",
      "  2. axis:    yes   -1.256490    2.176305    0.000000    12     0.1814\n",
      "  3. axis:    yes    0.000000    0.000000   20.000000   120     0.1667\n",
      "\n",
      "  Lengths:   2.512980   2.512980  20.000000\n",
      "  Angles:   90.000000  90.000000 120.000000\n",
      "\n",
      "Effective grid spacing dv^(1/3) = 0.1850\n",
      "\n",
      "                     log10-error:    total        iterations:\n",
      "           time      wfs    density  energy       fermi  poisson\n",
      "iter:   1  17:22:02  +1.63   +inf  -351.596967    0             \n",
      "iter:   2  17:22:02  -0.76  -0.63  -351.302423    0             \n",
      "iter:   3  17:22:03  -0.52  -0.67  -349.970281    1             \n",
      "iter:   4  17:22:03  -1.75  -1.09  -349.931331    0             \n",
      "iter:   5  17:22:04  -1.05  -1.15  -349.890882    1             \n",
      "iter:   6  17:22:04  -1.57  -1.41  -349.842082    0             \n",
      "iter:   7  17:22:04  -2.29  -1.77  -349.844888    0             \n",
      "iter:   8  17:22:05  -2.19  -1.73  -349.835914    0             \n",
      "iter:   9  17:22:05  -2.73  -1.90  -349.830342    0             \n",
      "iter:  10  17:22:06  -3.52  -2.61  -349.830313    0             \n",
      "iter:  11  17:22:06  -4.07  -2.80  -349.830308    0             \n",
      "iter:  12  17:22:06  -4.27  -3.00  -349.830284    0             \n",
      "iter:  13  17:22:07  -4.82  -3.53  -349.830286    0             \n",
      "iter:  14  17:22:07  -6.01  -3.75  -349.830286    0             \n",
      "iter:  15  17:22:07  -4.35  -3.79  -349.830323    0             \n",
      "iter:  16  17:22:08  -4.25  -3.06  -349.830290    0             \n",
      "iter:  17  17:22:08  -5.50  -3.56  -349.830291    0             \n",
      "iter:  18  17:22:08  -5.66  -3.53  -349.830286    0             \n",
      "iter:  19  17:22:09  -5.97  -4.09  -349.830286    0             \n",
      "iter:  20  17:22:09  -7.60  -4.14  -349.830286    0             \n",
      "\n",
      "Converged after 20 iterations.\n",
      "\n",
      "Dipole moment: (-0.607458, 0.492610, 0.000000) |e|*Ang\n",
      "\n",
      "Energy contributions relative to reference atoms: (reference = 0.000000)\n",
      "\n",
      "Kinetic:       +231.183110\n",
      "Potential:     -499.717570\n",
      "External:        +0.000000\n",
      "XC:            -100.048241\n",
      "Entropy (-ST):   -0.000000\n",
      "Local:          +18.752414\n",
      "--------------------------\n",
      "Free energy:   -349.830286\n",
      "Extrapolated:  -349.830286\n",
      "\n",
      "Fermi level: -4.04052\n",
      "\n",
      "Showing only first 2 kpts\n",
      " Kpt  Band  Eigenvalues  Occupancy\n",
      "  0     2     -8.53735    0.25000\n",
      "  0     3     -6.89985    0.25000\n",
      "  0     4      2.94258    0.00000\n",
      "  0     5      3.76174    0.00000\n",
      "\n",
      "  1     2     -6.86782    0.25000\n",
      "  1     3     -6.21062    0.25000\n",
      "  1     4      0.88643    0.00000\n",
      "  1     5      1.72322    0.00000\n",
      "\n",
      "\n",
      "Writing to gs_sg15.gpw (mode='')\n",
      "\n"
     ]
    }
   ],
   "source": [
    "from gpaw import GPAW, FermiDirac\n",
    "from gpaw.wavefunctions.pw import PW\n",
    "from ase.io import read,write\n",
    "from TDDFT import TDDFT\n",
    "import numpy as np\n",
    "from tqdm import tqdm\n",
    "from ase.units import Hartree, Bohr\n",
    "import matplotlib.pyplot as plt\n",
    "from gpaw.external import ConstantElectricField\n",
    "%matplotlib inline\n",
    "\n",
    "c = 20\n",
    "PW_cut=600\n",
    "atoms = read('hBN.cif')\n",
    "print(atoms.cell[2,2])\n",
    "atoms.cell[2,2]=c\n",
    "atoms.center()\n",
    "write('hBN.cif',atoms,format='cif')\n",
    "\n",
    "calc = GPAW(mode=PW(PW_cut),xc='PBE',\n",
    "            kpts={'size': (4, 4, 1)},\n",
    "            setups='sg15',\n",
    "            occupations=FermiDirac(0.0001))\n",
    "\n",
    "atoms.set_calculator(calc)\n",
    "atoms.get_potential_energy()\n",
    "calc.write('gs_sg15.gpw')"
   ]
  },
  {
   "cell_type": "code",
   "execution_count": 6,
   "metadata": {},
   "outputs": [],
   "source": [
    "from DensityMatrix import DensityMatrix"
   ]
  },
  {
   "cell_type": "code",
   "execution_count": 7,
   "metadata": {},
   "outputs": [],
   "source": [
    "DM=DensityMatrix(calc)"
   ]
  },
  {
   "cell_type": "code",
   "execution_count": 8,
   "metadata": {},
   "outputs": [
    {
     "name": "stderr",
     "output_type": "stream",
     "text": [
      "100%|██████████| 8/8 [00:00<00:00, 19.39it/s]\n",
      "100%|██████████| 100000/100000 [00:10<00:00, 9235.81it/s]\n"
     ]
    }
   ],
   "source": [
    "dt=0.1;steps=100000\n",
    "E=lambda t:1e-4*np.exp(-t/dt)\n",
    "DM.propagate([0,1,2,3],[4,5,6,7],E,steps,dt,100,direction=[1,0,0])"
   ]
  },
  {
   "cell_type": "code",
   "execution_count": 16,
   "metadata": {},
   "outputs": [
    {
     "data": {
      "text/plain": [
       "[<matplotlib.lines.Line2D at 0x7f93f95d4c88>]"
      ]
     },
     "execution_count": 16,
     "metadata": {},
     "output_type": "execute_result"
    },
    {
     "data": {
      "image/png": "[encoded data removed]",
      "text/plain": [
       "<Figure size 432x288 with 1 Axes>"
      ]
     },
     "metadata": {
      "needs_background": "light"
     },
     "output_type": "display_data"
    }
   ],
   "source": [
    "plt.plot(DM.time,DM.P.real)\n",
    "plt.plot(DM.time,DM.P.imag)"
   ]
  },
  {
   "cell_type": "code",
   "execution_count": 20,
   "metadata": {},
   "outputs": [],
   "source": [
    "P=np.fft.fft(DM.P)\n",
    "freq = np.fft.fftfreq(steps, d=dt)*2*np.pi*Hartree\n",
    "P=P[np.argsort(freq)]\n",
    "freq=np.sort(freq)\n",
    "\n",
    "# spectrum=np.abs(spectrum*freq)**2"
   ]
  },
  {
   "cell_type": "code",
   "execution_count": 25,
   "metadata": {},
   "outputs": [
    {
     "data": {
      "text/plain": [
       "(0, 6)"
      ]
     },
     "execution_count": 25,
     "metadata": {},
     "output_type": "execute_result"
    },
    {
     "data": {
      "image/png": "[encoded data removed]",
      "text/plain": [
       "<Figure size 432x288 with 1 Axes>"
      ]
     },
     "metadata": {
      "needs_background": "light"
     },
     "output_type": "display_data"
    }
   ],
   "source": [
    "plt.plot(freq,P.imag)\n",
    "plt.xlim([0,6])"
   ]
  },
  {
   "cell_type": "code",
   "execution_count": 24,
   "metadata": {},
   "outputs": [
    {
     "data": {
      "text/plain": [
       "-0.36725326343342146"
      ]
     },
     "execution_count": 24,
     "metadata": {},
     "output_type": "execute_result"
    }
   ],
   "source": [
    "2*np.trapz(freq*P.imag,freq)/np.pi"
   ]
  },
  {
   "cell_type": "code",
   "execution_count": null,
   "metadata": {},
   "outputs": [],
   "source": []
  }
 ],
 "metadata": {
  "kernelspec": {
   "display_name": "Python 3",
   "language": "python",
   "name": "python3"
  },
  "language_info": {
   "codemirror_mode": {
    "name": "ipython",
    "version": 3
   },
   "file_extension": ".py",
   "mimetype": "text/x-python",
   "name": "python",
   "nbconvert_exporter": "python",
   "pygments_lexer": "ipython3",
   "version": "3.6.7"
  }
 },
 "nbformat": 4,
 "nbformat_minor": 2
}
