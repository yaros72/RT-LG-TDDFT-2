{
 "cells": [
  {
   "cell_type": "markdown",
   "metadata": {},
   "source": [
    "# Tutorial"
   ]
  },
  {
   "cell_type": "markdown",
   "metadata": {},
   "source": [
    "<b>Warning: it is necessary to use <u>setups='sg15'</u> in GPAW</b> (ONCV pseudopotentials)"
   ]
  },
  {
   "cell_type": "code",
   "execution_count": 1,
   "metadata": {},
   "outputs": [
    {
     "name": "stdout",
     "output_type": "stream",
     "text": [
      "\n",
      "  ___ ___ ___ _ _ _  \n",
      " |   |   |_  | | | | \n",
      " | | | | | . | | | | \n",
      " |__ |  _|___|_____|  1.5.1\n",
      " |___|_|             \n",
      "\n",
      "User:   drg@forsite\n",
      "Date:   Wed Apr  3 18:14:12 2019\n",
      "Arch:   x86_64\n",
      "Pid:    24550\n",
      "Python: 3.6.7\n",
      "gpaw:   /usr/local/lib/python3.6/dist-packages/gpaw\n",
      "_gpaw:  /usr/local/lib/python3.6/dist-packages/\n",
      "        _gpaw.cpython-36m-x86_64-linux-gnu.so\n",
      "ase:    /home/drg/.local/lib/python3.6/site-packages/ase (version 3.17.0)\n",
      "numpy:  /home/drg/.local/lib/python3.6/site-packages/numpy (version 1.16.2)\n",
      "scipy:  /home/drg/.local/lib/python3.6/site-packages/scipy (version 1.2.1)\n",
      "units:  Angstrom and eV\n",
      "cores:  1\n",
      "\n",
      "Input parameters:\n",
      "  kpts: {size: (30, 30, 1)}\n",
      "  mode: {ecut: 600.0,\n",
      "         gammacentered: False,\n",
      "         name: pw}\n",
      "  occupations: {name: fermi-dirac,\n",
      "                width: 0.0001}\n",
      "  setups: sg15\n",
      "  xc: PBE\n",
      "\n",
      "System changes: positions, numbers, cell, pbc, initial_charges, initial_magmoms \n",
      "\n",
      "Initialize ...\n",
      "\n",
      "Norm-conserving UPF setup:\n",
      "  Element:    B\n",
      "  Z:          5\n",
      "  Valence:  3.0\n",
      "Projectors:\n",
      "  l=0 rcut=1.93\n",
      "  l=0 rcut=1.93\n",
      "  l=1 rcut=1.93\n",
      "  l=1 rcut=1.93\n",
      "No states stored on this setup\n",
      "Local potential cutoff: 2.14\n",
      "Comp charge cutoff:     2.14\n",
      "File: /usr/local/sg15_oncv_upf_2015-10-07/B_ONCV_PBE-1.0.upf\n",
      "\n",
      "  LCAO basis set for B:\n",
      "    Name: atompaw.sz\n",
      "    This basis set was not loaded from a file\n",
      "    Number of radial functions: 2\n",
      "    Number of spherical harmonics: 4\n",
      "      l=0, rc=8.9500 Bohr: s0 e=-0.344 f=2.000\n",
      "      l=1, rc=8.9500 Bohr: p0 e=-0.132 f=1.000\n",
      "\n",
      "Norm-conserving UPF setup:\n",
      "  Element:    N\n",
      "  Z:          7\n",
      "  Valence:  5.0\n",
      "Projectors:\n",
      "  l=0 rcut=1.63\n",
      "  l=0 rcut=1.63\n",
      "  l=1 rcut=1.63\n",
      "  l=1 rcut=1.63\n",
      "No states stored on this setup\n",
      "Local potential cutoff: 1.44\n",
      "Comp charge cutoff:     1.44\n",
      "File: /usr/local/sg15_oncv_upf_2015-10-07/N_ONCV_PBE-1.0.upf\n",
      "\n",
      "  LCAO basis set for N:\n",
      "    Name: atompaw.sz\n",
      "    This basis set was not loaded from a file\n",
      "    Number of radial functions: 2\n",
      "    Number of spherical harmonics: 4\n",
      "      l=0, rc=8.9500 Bohr: s0 e=-0.683 f=2.000\n",
      "      l=1, rc=8.9500 Bohr: p0 e=-0.263 f=3.000\n",
      "\n",
      "Reference energy: 0.000000\n",
      "\n",
      "Spin-paired calculation\n",
      "\n",
      "Occupation numbers:\n",
      "  Fermi-Dirac: width=0.0001 eV\n",
      "\n",
      "Convergence criteria:\n",
      "  Maximum total energy change: 0.0005 eV / electron\n",
      "  Maximum integral of absolute density change: 0.0001 electrons\n",
      "  Maximum integral of absolute eigenstate change: 4e-08 eV^2\n",
      "  Maximum number of iterations: 333\n",
      "\n",
      "Symmetries present (total): 2\n",
      "\n",
      "  ( 1  0  0)  ( 1  0  0)\n",
      "  ( 0  1  0)  ( 0  1  0)\n",
      "  ( 0  0  1)  ( 0  0 -1)\n",
      "\n",
      "900 k-points: 30 x 30 x 1 Monkhorst-Pack grid\n",
      "450 k-points in the irreducible part of the Brillouin zone\n",
      "       k-points in crystal coordinates                weights\n",
      "   0:     0.01666667   -0.48333333    0.00000000          2/900\n",
      "   1:     0.01666667   -0.45000000    0.00000000          2/900\n",
      "   2:     0.01666667   -0.41666667    0.00000000          2/900\n",
      "   3:     0.01666667   -0.38333333    0.00000000          2/900\n",
      "   4:     0.01666667   -0.35000000    0.00000000          2/900\n",
      "   5:     0.01666667   -0.31666667    0.00000000          2/900\n",
      "   6:     0.01666667   -0.28333333    0.00000000          2/900\n",
      "   7:     0.01666667   -0.25000000    0.00000000          2/900\n",
      "   8:     0.01666667   -0.21666667    0.00000000          2/900\n",
      "   9:     0.01666667   -0.18333333    0.00000000          2/900\n",
      "          ...\n",
      " 449:     0.48333333    0.48333333    0.00000000          2/900\n",
      "\n",
      "Wave functions: Plane wave expansion\n",
      "  Cutoff energy: 600.000 eV\n",
      "  Number of coefficients (min, max): 3529, 3701\n",
      "  Pulay-stress correction: 0.000000 eV/Ang^3 (de/decut=0.000000)\n",
      "  Using FFTW library\n",
      "  ScaLapack parameters: grid=1x1, blocksize=None\n",
      "  Wavefunction extrapolation:\n",
      "    Improved wavefunction reuse through dual PAW basis \n",
      "\n",
      "Eigensolver\n",
      "   Davidson(niter=2, smin=None, normalize=True) \n",
      "\n",
      "Densities:\n",
      "  Coarse grid: 12*12*120 grid\n",
      "  Fine grid: 24*24*240 grid\n",
      "  Total Charge: 0.000000 \n",
      "\n",
      "Density mixing:\n",
      "  Method: separate\n",
      "  Backend: pulay\n",
      "  Linear mixing parameter: 0.05\n",
      "  Mixing with 5 old densities\n",
      "  Damping of long wave oscillations: 50 \n",
      "\n",
      "Hamiltonian:\n",
      "  XC and Coulomb potentials evaluated on a 24*24*240 grid\n",
      "  Using the PBE Exchange-Correlation functional\n",
      " \n",
      "\n",
      "XC parameters: PBE with 2 nearest neighbor stencil\n",
      "\n",
      "Memory estimate:\n",
      "  Process memory now: 225.73 MiB\n",
      "  Calculator: 389.03 MiB\n",
      "    Density: 5.36 MiB\n",
      "      Arrays: 3.43 MiB\n",
      "      Localized functions: 0.61 MiB\n",
      "      Mixer: 1.32 MiB\n",
      "    Hamiltonian: 2.31 MiB\n",
      "      Arrays: 2.24 MiB\n",
      "      XC: 0.00 MiB\n",
      "      Poisson: 0.00 MiB\n",
      "      vbar: 0.07 MiB\n",
      "    Wavefunctions: 381.36 MiB\n",
      "      Arrays psit_nG: 203.30 MiB\n",
      "      Eigensolver: 0.74 MiB\n",
      "      Projections: 0.88 MiB\n",
      "      Projectors: 150.36 MiB\n",
      "      PW-descriptor: 26.07 MiB\n",
      "\n",
      "Total number of cores used: 1\n",
      "\n",
      "Number of atoms: 2\n",
      "Number of atomic orbitals: 8\n",
      "Number of bands in calculation: 8\n",
      "Bands to converge: occupied states only\n",
      "Number of valence electrons: 8.0\n",
      "\n",
      "... initialized\n",
      "\n",
      "Initializing position-dependent things.\n",
      "\n",
      "Density initialized from atomic densities\n",
      "Creating initial wave functions:\n",
      "  8 bands from LCAO basis set\n",
      "\n",
      "                 \n",
      "                 \n",
      "                 \n",
      "                 \n",
      "       BN        \n",
      "                 \n",
      "                 \n",
      "                 \n",
      "                 \n",
      "\n",
      "Positions:\n",
      "   0 B      0.628251    0.362714   10.000000    ( 0.0000,  0.0000,  0.0000)\n",
      "   1 N      0.628239    1.813591   10.000000    ( 0.0000,  0.0000,  0.0000)\n",
      "\n",
      "Unit cell:\n",
      "           periodic     x           y           z      points  spacing\n",
      "  1. axis:    yes    2.512980    0.000000    0.000000    12     0.1814\n",
      "  2. axis:    yes   -1.256490    2.176305    0.000000    12     0.1814\n",
      "  3. axis:    yes    0.000000    0.000000   20.000000   120     0.1667\n",
      "\n",
      "  Lengths:   2.512980   2.512980  20.000000\n",
      "  Angles:   90.000000  90.000000 120.000000\n",
      "\n",
      "Effective grid spacing dv^(1/3) = 0.1850\n",
      "\n",
      "                     log10-error:    total        iterations:\n",
      "           time      wfs    density  energy       fermi  poisson\n",
      "iter:   1  18:14:42  +1.64   +inf  -351.591417    0             \n",
      "iter:   2  18:14:56  -0.77  -0.63  -351.295945    0             \n",
      "iter:   3  18:15:16  -0.51  -0.67  -349.962258    1             \n",
      "iter:   4  18:15:36  -1.77  -1.09  -349.925045    1             \n",
      "iter:   5  18:15:56  -1.03  -1.15  -349.884024    1             \n",
      "iter:   6  18:16:17  -1.58  -1.41  -349.834922    0             \n",
      "iter:   7  18:16:33  -2.30  -1.76  -349.837603    0             \n",
      "iter:   8  18:16:51  -2.13  -1.73  -349.826923    0             \n",
      "iter:   9  18:17:10  -3.10  -1.99  -349.823004    0             \n",
      "iter:  10  18:17:27  -3.85  -2.65  -349.822981    0             \n",
      "iter:  11  18:17:46  -3.88  -2.75  -349.822927    0             \n",
      "iter:  12  18:18:06  -4.53  -3.22  -349.822918    0             \n",
      "iter:  13  18:18:25  -5.24  -3.76  -349.822920    0             \n",
      "iter:  14  18:18:40  -6.26  -3.71  -349.822920    0             \n",
      "iter:  15  18:18:58  -7.30  -4.25  -349.822920    0             \n",
      "iter:  16  18:19:15  -6.99  -4.33  -349.822920    0             \n",
      "iter:  17  18:19:32  -8.09  -4.74  -349.822920    0             \n",
      "\n",
      "Converged after 17 iterations.\n",
      "\n",
      "Dipole moment: (-0.606746, 0.493099, 0.000000) |e|*Ang\n",
      "\n",
      "Energy contributions relative to reference atoms: (reference = 0.000000)\n",
      "\n",
      "Kinetic:       +231.199812\n",
      "Potential:     -499.722347\n",
      "External:        +0.000000\n",
      "XC:            -100.050744\n",
      "Entropy (-ST):   -0.000000\n",
      "Local:          +18.750360\n",
      "--------------------------\n",
      "Free energy:   -349.822920\n",
      "Extrapolated:  -349.822920\n",
      "\n",
      "Fermi level: -3.80768\n",
      "\n",
      "Showing only first 2 kpts\n",
      " Kpt  Band  Eigenvalues  Occupancy\n",
      "  0     2     -8.48354    0.00444\n",
      "  0     3     -5.25566    0.00444\n",
      "  0     4      0.56687    0.00000\n",
      "  0     5      5.36668    0.00000\n",
      "\n",
      "  1     2     -8.42630    0.00444\n",
      "  1     3     -5.49239    0.00444\n",
      "  1     4      0.87552    0.00000\n",
      "  1     5      5.25427    0.00000\n",
      "\n",
      "\n",
      "Writing to gs_sg15.gpw (mode='')\n",
      "\n"
     ]
    }
   ],
   "source": [
    "from gpaw import GPAW, FermiDirac\n",
    "from gpaw.wavefunctions.pw import PW\n",
    "from ase.io import read\n",
    "from TDDFT import TDDFT\n",
    "import numpy as np\n",
    "from tqdm import tqdm\n",
    "from ase.units import Hartree, Bohr\n",
    "import matplotlib.pyplot as plt\n",
    "from gpaw.external import ConstantElectricField\n",
    "%matplotlib inline\n",
    "\n",
    "c = 20\n",
    "PW_cut=600\n",
    "atoms = read('hBN.cif')\n",
    "atoms.cell[2,2]=c\n",
    "atoms.center()\n",
    "\n",
    "calc = GPAW(mode=PW(PW_cut),xc='PBE',\n",
    "            kpts={'size': (30, 30, 1)},\n",
    "            setups='sg15',\n",
    "            occupations=FermiDirac(0.0001))\n",
    "\n",
    "atoms.set_calculator(calc)\n",
    "atoms.get_potential_energy()\n",
    "calc.write('gs_sg15.gpw')"
   ]
  },
  {
   "cell_type": "markdown",
   "metadata": {},
   "source": [
    "# Initialization "
   ]
  },
  {
   "cell_type": "code",
   "execution_count": 2,
   "metadata": {},
   "outputs": [
    {
     "name": "stderr",
     "output_type": "stream",
     "text": [
      "/home/drg/test/RT-LG-TDDFT-2/TDDFT.py:76: RuntimeWarning: overflow encountered in exp\n",
      "  self.f=1/(1+np.exp((self.EK-self.Fermi)/self.temperature))\n",
      "100%|██████████| 450/450 [1:20:23<00:00, 10.82s/it]\n"
     ]
    }
   ],
   "source": [
    "from TDDFT import TDDFT\n",
    "tddft=TDDFT(calc)"
   ]
  },
  {
   "cell_type": "markdown",
   "metadata": {},
   "source": [
    "# Calculation of the dipole matrix\n",
    "Сalculation of the dipole matrix occurs according to the following equation\n",
    "$$ d_{nm}(k)=\\int_\\Omega dr \\; u_{kn}^{*}(r) \\; r \\; u_{km}(r)$$\n",
    "where $u_{kn}(r)$ - periodic part of Kohn-Sham wavefunction which is stored in <b>TDDFT.ukn</b>\n",
    "\n",
    "$r$ - coordinate inside the elementary cell which is stored in <b>TDDFT.r</b>\n",
    "\n",
    "$\\Omega$ - volume of the elementary cell which is stored in <b>TDDFT.volume</b>"
   ]
  },
  {
   "cell_type": "code",
   "execution_count": 3,
   "metadata": {},
   "outputs": [],
   "source": [
    "import matplotlib.pyplot as plt"
   ]
  },
  {
   "cell_type": "code",
   "execution_count": 4,
   "metadata": {},
   "outputs": [
    {
     "data": {
      "text/plain": [
       "<matplotlib.colorbar.Colorbar at 0x7ff8f4ed6470>"
      ]
     },
     "execution_count": 4,
     "metadata": {},
     "output_type": "execute_result"
    },
    {
     "data": {
      "image/png": "[encoded data removed]",
      "text/plain": [
       "<Figure size 432x288 with 2 Axes>"
      ]
     },
     "metadata": {
      "needs_background": "light"
     },
     "output_type": "display_data"
    }
   ],
   "source": [
    "direction=[0,0,1]\n",
    "dipole=tddft.get_transition_matrix(direction)\n",
    "plt.title(\"Dipole matrix\")\n",
    "plt.imshow(np.abs(np.sum(tddft.wk[:,None,None]*dipole,axis=0)))\n",
    "plt.colorbar()"
   ]
  },
  {
   "cell_type": "markdown",
   "metadata": {},
   "source": [
    "# TDDFT"
   ]
  },
  {
   "cell_type": "code",
   "execution_count": 5,
   "metadata": {},
   "outputs": [
    {
     "name": "stderr",
     "output_type": "stream",
     "text": [
      " 66%|██████▋   | 66415/99999 [17:06:24<8:45:33,  1.07it/s] "
     ]
    },
    {
     "ename": "KeyboardInterrupt",
     "evalue": "",
     "output_type": "error",
     "traceback": [
      "\u001b[0;31m---------------------------------------------------------------------------\u001b[0m",
      "\u001b[0;31mKeyboardInterrupt\u001b[0m                         Traceback (most recent call last)",
      "\u001b[0;32m<ipython-input-5-8e687bb19888>\u001b[0m in \u001b[0;36m<module>\u001b[0;34m\u001b[0m\n\u001b[1;32m      3\u001b[0m \u001b[0mtime\u001b[0m\u001b[0;34m=\u001b[0m\u001b[0mnp\u001b[0m\u001b[0;34m.\u001b[0m\u001b[0marange\u001b[0m\u001b[0;34m(\u001b[0m\u001b[0msteps\u001b[0m\u001b[0;34m)\u001b[0m\u001b[0;34m*\u001b[0m\u001b[0mdt\u001b[0m\u001b[0;34m\u001b[0m\u001b[0;34m\u001b[0m\u001b[0m\n\u001b[1;32m      4\u001b[0m \u001b[0mE\u001b[0m\u001b[0;34m=\u001b[0m\u001b[0;36m1\u001b[0m\u001b[0;34m*\u001b[0m\u001b[0mnp\u001b[0m\u001b[0;34m.\u001b[0m\u001b[0mexp\u001b[0m\u001b[0;34m(\u001b[0m\u001b[0;34m-\u001b[0m\u001b[0mtime\u001b[0m\u001b[0;34m/\u001b[0m\u001b[0mdt\u001b[0m\u001b[0;34m)\u001b[0m\u001b[0;34m\u001b[0m\u001b[0;34m\u001b[0m\u001b[0m\n\u001b[0;32m----> 5\u001b[0;31m \u001b[0mresult\u001b[0m\u001b[0;34m=\u001b[0m\u001b[0mtddft\u001b[0m\u001b[0;34m.\u001b[0m\u001b[0mpropagate\u001b[0m\u001b[0;34m(\u001b[0m\u001b[0mdt\u001b[0m\u001b[0;34m=\u001b[0m\u001b[0mdt\u001b[0m\u001b[0;34m,\u001b[0m\u001b[0msteps\u001b[0m\u001b[0;34m=\u001b[0m\u001b[0msteps\u001b[0m\u001b[0;34m,\u001b[0m\u001b[0mE\u001b[0m\u001b[0;34m=\u001b[0m\u001b[0mE\u001b[0m\u001b[0;34m,\u001b[0m\u001b[0mdirection\u001b[0m\u001b[0;34m=\u001b[0m\u001b[0;34m[\u001b[0m\u001b[0;36m0\u001b[0m\u001b[0;34m,\u001b[0m\u001b[0;36m0\u001b[0m\u001b[0;34m,\u001b[0m\u001b[0;36m1\u001b[0m\u001b[0;34m]\u001b[0m\u001b[0;34m)\u001b[0m\u001b[0;34m\u001b[0m\u001b[0;34m\u001b[0m\u001b[0m\n\u001b[0m",
      "\u001b[0;32m~/test/RT-LG-TDDFT-2/TDDFT.py\u001b[0m in \u001b[0;36mpropagate\u001b[0;34m(self, dt, steps, E, direction, corrections)\u001b[0m\n\u001b[1;32m    150\u001b[0m         \u001b[0;32mfor\u001b[0m \u001b[0mt\u001b[0m \u001b[0;32min\u001b[0m \u001b[0mtqdm\u001b[0m\u001b[0;34m(\u001b[0m\u001b[0mrange\u001b[0m\u001b[0;34m(\u001b[0m\u001b[0;36m1\u001b[0m\u001b[0;34m,\u001b[0m\u001b[0msteps\u001b[0m\u001b[0;34m)\u001b[0m\u001b[0;34m)\u001b[0m\u001b[0;34m:\u001b[0m\u001b[0;34m\u001b[0m\u001b[0;34m\u001b[0m\u001b[0m\n\u001b[1;32m    151\u001b[0m             \u001b[0mH\u001b[0m \u001b[0;34m=\u001b[0m \u001b[0mself\u001b[0m\u001b[0;34m.\u001b[0m\u001b[0mKinetic\u001b[0m\u001b[0;34m+\u001b[0m\u001b[0mE\u001b[0m\u001b[0;34m[\u001b[0m\u001b[0mt\u001b[0m\u001b[0;34m]\u001b[0m\u001b[0;34m*\u001b[0m\u001b[0mself\u001b[0m\u001b[0;34m.\u001b[0m\u001b[0mdipole\u001b[0m\u001b[0;34m\u001b[0m\u001b[0;34m\u001b[0m\u001b[0m\n\u001b[0;32m--> 152\u001b[0;31m             \u001b[0mH\u001b[0m\u001b[0;34m+=\u001b[0m \u001b[0mself\u001b[0m\u001b[0;34m.\u001b[0m\u001b[0mfast_Hartree_matrix\u001b[0m\u001b[0;34m(\u001b[0m\u001b[0mself\u001b[0m\u001b[0;34m.\u001b[0m\u001b[0mwavefunction\u001b[0m\u001b[0;34m)\u001b[0m\u001b[0;34m\u001b[0m\u001b[0;34m\u001b[0m\u001b[0m\n\u001b[0m\u001b[1;32m    153\u001b[0m             \u001b[0mH\u001b[0m\u001b[0;34m+=\u001b[0m \u001b[0mself\u001b[0m\u001b[0;34m.\u001b[0m\u001b[0mfast_LDA_correlation_matrix\u001b[0m\u001b[0;34m(\u001b[0m\u001b[0mself\u001b[0m\u001b[0;34m.\u001b[0m\u001b[0mwavefunction\u001b[0m\u001b[0;34m)\u001b[0m\u001b[0;34m\u001b[0m\u001b[0;34m\u001b[0m\u001b[0m\n\u001b[1;32m    154\u001b[0m             \u001b[0mH\u001b[0m\u001b[0;34m+=\u001b[0m \u001b[0mself\u001b[0m\u001b[0;34m.\u001b[0m\u001b[0mfast_LDA_exchange_matrix\u001b[0m\u001b[0;34m(\u001b[0m\u001b[0mself\u001b[0m\u001b[0;34m.\u001b[0m\u001b[0mwavefunction\u001b[0m\u001b[0;34m)\u001b[0m\u001b[0;34m\u001b[0m\u001b[0;34m\u001b[0m\u001b[0m\n",
      "\u001b[0;32m~/test/RT-LG-TDDFT-2/TDDFT.py\u001b[0m in \u001b[0;36mfast_Hartree_matrix\u001b[0;34m(self, wavefunction)\u001b[0m\n\u001b[1;32m    127\u001b[0m \u001b[0;34m\u001b[0m\u001b[0m\n\u001b[1;32m    128\u001b[0m     \u001b[0;32mdef\u001b[0m \u001b[0mfast_Hartree_matrix\u001b[0m\u001b[0;34m(\u001b[0m\u001b[0mself\u001b[0m\u001b[0;34m,\u001b[0m\u001b[0mwavefunction\u001b[0m\u001b[0;34m)\u001b[0m\u001b[0;34m:\u001b[0m\u001b[0;34m\u001b[0m\u001b[0;34m\u001b[0m\u001b[0m\n\u001b[0;32m--> 129\u001b[0;31m         \u001b[0;32mreturn\u001b[0m \u001b[0mnp\u001b[0m\u001b[0;34m.\u001b[0m\u001b[0meinsum\u001b[0m\u001b[0;34m(\u001b[0m\u001b[0;34m'kn,knqij->qij'\u001b[0m\u001b[0;34m,\u001b[0m\u001b[0mself\u001b[0m\u001b[0;34m.\u001b[0m\u001b[0moccupation\u001b[0m\u001b[0;34m(\u001b[0m\u001b[0mwavefunction\u001b[0m\u001b[0;34m)\u001b[0m\u001b[0;34m,\u001b[0m\u001b[0mself\u001b[0m\u001b[0;34m.\u001b[0m\u001b[0mHartree_elements\u001b[0m\u001b[0;34m)\u001b[0m\u001b[0;34m-\u001b[0m\u001b[0mself\u001b[0m\u001b[0;34m.\u001b[0m\u001b[0mVH0\u001b[0m\u001b[0;34m\u001b[0m\u001b[0;34m\u001b[0m\u001b[0m\n\u001b[0m\u001b[1;32m    130\u001b[0m \u001b[0;34m\u001b[0m\u001b[0m\n\u001b[1;32m    131\u001b[0m     \u001b[0;32mdef\u001b[0m \u001b[0mfast_LDA_correlation_matrix\u001b[0m\u001b[0;34m(\u001b[0m\u001b[0mself\u001b[0m\u001b[0;34m,\u001b[0m\u001b[0mwavefunction\u001b[0m\u001b[0;34m)\u001b[0m\u001b[0;34m:\u001b[0m\u001b[0;34m\u001b[0m\u001b[0;34m\u001b[0m\u001b[0m\n",
      "\u001b[0;32m~/.local/lib/python3.6/site-packages/numpy/core/einsumfunc.py\u001b[0m in \u001b[0;36meinsum\u001b[0;34m(*operands, **kwargs)\u001b[0m\n\u001b[1;32m   1344\u001b[0m     \u001b[0;31m# If no optimization, run pure einsum\u001b[0m\u001b[0;34m\u001b[0m\u001b[0;34m\u001b[0m\u001b[0;34m\u001b[0m\u001b[0m\n\u001b[1;32m   1345\u001b[0m     \u001b[0;32mif\u001b[0m \u001b[0moptimize_arg\u001b[0m \u001b[0;32mis\u001b[0m \u001b[0;32mFalse\u001b[0m\u001b[0;34m:\u001b[0m\u001b[0;34m\u001b[0m\u001b[0;34m\u001b[0m\u001b[0m\n\u001b[0;32m-> 1346\u001b[0;31m         \u001b[0;32mreturn\u001b[0m \u001b[0mc_einsum\u001b[0m\u001b[0;34m(\u001b[0m\u001b[0;34m*\u001b[0m\u001b[0moperands\u001b[0m\u001b[0;34m,\u001b[0m \u001b[0;34m**\u001b[0m\u001b[0mkwargs\u001b[0m\u001b[0;34m)\u001b[0m\u001b[0;34m\u001b[0m\u001b[0;34m\u001b[0m\u001b[0m\n\u001b[0m\u001b[1;32m   1347\u001b[0m \u001b[0;34m\u001b[0m\u001b[0m\n\u001b[1;32m   1348\u001b[0m     \u001b[0mvalid_einsum_kwargs\u001b[0m \u001b[0;34m=\u001b[0m \u001b[0;34m[\u001b[0m\u001b[0;34m'out'\u001b[0m\u001b[0;34m,\u001b[0m \u001b[0;34m'dtype'\u001b[0m\u001b[0;34m,\u001b[0m \u001b[0;34m'order'\u001b[0m\u001b[0;34m,\u001b[0m \u001b[0;34m'casting'\u001b[0m\u001b[0;34m]\u001b[0m\u001b[0;34m\u001b[0m\u001b[0;34m\u001b[0m\u001b[0m\n",
      "\u001b[0;31mKeyboardInterrupt\u001b[0m: "
     ]
    }
   ],
   "source": [
    "dt=0.1;steps=100000;\n",
    "E=np.zeros(steps);\n",
    "time=np.arange(steps)*dt\n",
    "E=1*np.exp(-time/dt)\n",
    "result=tddft.propagate(dt=dt,steps=steps,E=E,direction=[0,0,1])"
   ]
  },
  {
   "cell_type": "code",
   "execution_count": 7,
   "metadata": {},
   "outputs": [
    {
     "data": {
      "text/plain": [
       "[<matplotlib.lines.Line2D at 0x7ff8ef2a7828>]"
      ]
     },
     "execution_count": 7,
     "metadata": {},
     "output_type": "execute_result"
    },
    {
     "data": {
      "image/png": "[encoded data removed]",
      "text/plain": [
       "<Figure size 432x288 with 1 Axes>"
      ]
     },
     "metadata": {
      "needs_background": "light"
     },
     "output_type": "display_data"
    }
   ],
   "source": [
    "plt.plot(tddft.polarization[:66415])"
   ]
  },
  {
   "cell_type": "code",
   "execution_count": 8,
   "metadata": {},
   "outputs": [],
   "source": [
    "spectrum=np.fft.fft(tddft.polarization[:66415])\n",
    "freq = np.fft.fftfreq(66415, d=dt)*2*np.pi*Hartree\n",
    "spectrum=spectrum[np.argsort(freq)]\n",
    "freq=np.sort(freq)\n",
    "spectrum=np.abs(spectrum*freq)**2"
   ]
  },
  {
   "cell_type": "code",
   "execution_count": 9,
   "metadata": {},
   "outputs": [
    {
     "data": {
      "text/plain": [
       "[<matplotlib.lines.Line2D at 0x7ff8ef288358>]"
      ]
     },
     "execution_count": 9,
     "metadata": {},
     "output_type": "execute_result"
    },
    {
     "data": {
      "image/png": "[encoded data removed]",
      "text/plain": [
       "<Figure size 432x288 with 1 Axes>"
      ]
     },
     "metadata": {
      "needs_background": "light"
     },
     "output_type": "display_data"
    }
   ],
   "source": [
    "plt.plot(time,tddft.polarization)"
   ]
  },
  {
   "cell_type": "code",
   "execution_count": 10,
   "metadata": {},
   "outputs": [],
   "source": [
    "from scipy.ndimage.filters import gaussian_filter1d"
   ]
  },
  {
   "cell_type": "code",
   "execution_count": 13,
   "metadata": {},
   "outputs": [
    {
     "data": {
      "image/png": "[encoded data removed]",
      "text/plain": [
       "<Figure size 864x576 with 1 Axes>"
      ]
     },
     "metadata": {
      "needs_background": "light"
     },
     "output_type": "display_data"
    }
   ],
   "source": [
    "plt.figure(figsize=(12,8))\n",
    "# plt.plot(omega*Hartree,epsilon.imag)\n",
    "plt.plot(freq,gaussian_filter1d(spectrum,1),'-')\n",
    "# plt.plot(data[inds_w, 0], 4 * np.pi * data[inds_w, 4],label='real')\n",
    "# plt.legend(loc='best')\n",
    "plt.xlim([0,20])\n",
    "plt.ylim([0,None])\n",
    "plt.grid()\n",
    "plt.savefig('spectrum_.png')"
   ]
  },
  {
   "cell_type": "code",
   "execution_count": 14,
   "metadata": {},
   "outputs": [],
   "source": [
    "from DensityMatrix import DensityMatrix"
   ]
  },
  {
   "cell_type": "code",
   "execution_count": null,
   "metadata": {},
   "outputs": [],
   "source": []
  }
 ],
 "metadata": {
  "kernelspec": {
   "display_name": "Python 3",
   "language": "python",
   "name": "python3"
  },
  "language_info": {
   "codemirror_mode": {
    "name": "ipython",
    "version": 3
   },
   "file_extension": ".py",
   "mimetype": "text/x-python",
   "name": "python",
   "nbconvert_exporter": "python",
   "pygments_lexer": "ipython3",
   "version": "3.6.7"
  }
 },
 "nbformat": 4,
 "nbformat_minor": 2
}
