{
 "cells": [
  {
   "cell_type": "markdown",
   "metadata": {},
   "source": [
    "# Tutorial"
   ]
  },
  {
   "cell_type": "markdown",
   "metadata": {},
   "source": [
    "<b>Warning: it is necessary to use <u>setups='sg15'</u> in GPAW</b> (ONCV pseudopotentials)"
   ]
  },
  {
   "cell_type": "code",
   "execution_count": 1,
   "metadata": {},
   "outputs": [
    {
     "name": "stdout",
     "output_type": "stream",
     "text": [
      "\n",
      "  ___ ___ ___ _ _ _  \n",
      " |   |   |_  | | | | \n",
      " | | | | | . | | | | \n",
      " |__ |  _|___|_____|  1.5.1\n",
      " |___|_|             \n",
      "\n",
      "User:   drg@forsite\n",
      "Date:   Mon Apr  8 18:01:32 2019\n",
      "Arch:   x86_64\n",
      "Pid:    13567\n",
      "Python: 3.6.7\n",
      "gpaw:   /usr/local/lib/python3.6/dist-packages/gpaw\n",
      "_gpaw:  /usr/local/lib/python3.6/dist-packages/\n",
      "        _gpaw.cpython-36m-x86_64-linux-gnu.so\n",
      "ase:    /home/drg/.local/lib/python3.6/site-packages/ase (version 3.17.0)\n",
      "numpy:  /home/drg/.local/lib/python3.6/site-packages/numpy (version 1.16.2)\n",
      "scipy:  /home/drg/.local/lib/python3.6/site-packages/scipy (version 1.2.1)\n",
      "units:  Angstrom and eV\n",
      "cores:  1\n",
      "\n",
      "Input parameters:\n",
      "  kpts: {size: (4, 4, 1)}\n",
      "  mode: {ecut: 200.0,\n",
      "         gammacentered: False,\n",
      "         name: pw}\n",
      "  occupations: {name: fermi-dirac,\n",
      "                width: 0.0001}\n",
      "  setups: sg15\n",
      "  xc: PBE\n",
      "\n",
      "System changes: positions, numbers, cell, pbc, initial_charges, initial_magmoms \n",
      "\n",
      "Initialize ...\n",
      "\n",
      "Norm-conserving UPF setup:\n",
      "  Element:    B\n",
      "  Z:          5\n",
      "  Valence:  3.0\n",
      "Projectors:\n",
      "  l=0 rcut=1.93\n",
      "  l=0 rcut=1.93\n",
      "  l=1 rcut=1.93\n",
      "  l=1 rcut=1.93\n",
      "No states stored on this setup\n",
      "Local potential cutoff: 2.14\n",
      "Comp charge cutoff:     2.14\n",
      "File: /usr/local/sg15_oncv_upf_2015-10-07/B_ONCV_PBE-1.0.upf\n",
      "\n",
      "  LCAO basis set for B:\n",
      "    Name: atompaw.sz\n",
      "    This basis set was not loaded from a file\n",
      "    Number of radial functions: 2\n",
      "    Number of spherical harmonics: 4\n",
      "      l=0, rc=8.9500 Bohr: s0 e=-0.344 f=2.000\n",
      "      l=1, rc=8.9500 Bohr: p0 e=-0.132 f=1.000\n",
      "\n",
      "Norm-conserving UPF setup:\n",
      "  Element:    N\n",
      "  Z:          7\n",
      "  Valence:  5.0\n",
      "Projectors:\n",
      "  l=0 rcut=1.63\n",
      "  l=0 rcut=1.63\n",
      "  l=1 rcut=1.63\n",
      "  l=1 rcut=1.63\n",
      "No states stored on this setup\n",
      "Local potential cutoff: 1.44\n",
      "Comp charge cutoff:     1.44\n",
      "File: /usr/local/sg15_oncv_upf_2015-10-07/N_ONCV_PBE-1.0.upf\n",
      "\n",
      "  LCAO basis set for N:\n",
      "    Name: atompaw.sz\n",
      "    This basis set was not loaded from a file\n",
      "    Number of radial functions: 2\n",
      "    Number of spherical harmonics: 4\n",
      "      l=0, rc=8.9500 Bohr: s0 e=-0.683 f=2.000\n",
      "      l=1, rc=8.9500 Bohr: p0 e=-0.263 f=3.000\n",
      "\n",
      "Reference energy: 0.000000\n",
      "\n",
      "Spin-paired calculation\n",
      "\n",
      "Occupation numbers:\n",
      "  Fermi-Dirac: width=0.0001 eV\n",
      "\n",
      "Convergence criteria:\n",
      "  Maximum total energy change: 0.0005 eV / electron\n",
      "  Maximum integral of absolute density change: 0.0001 electrons\n",
      "  Maximum integral of absolute eigenstate change: 4e-08 eV^2\n",
      "  Maximum number of iterations: 333\n",
      "\n",
      "Symmetries present (total): 4\n",
      "\n",
      "  ( 1  1  0)  ( 1  1  0)  ( 1  0  0)  ( 1  0  0)\n",
      "  ( 0 -1  0)  ( 0 -1  0)  ( 0  1  0)  ( 0  1  0)\n",
      "  ( 0  0  1)  ( 0  0 -1)  ( 0  0  1)  ( 0  0 -1)\n",
      "Note: your k-points are not as symmetric as your crystal!\n",
      "\n",
      "16 k-points: 4 x 4 x 1 Monkhorst-Pack grid\n",
      "8 k-points in the irreducible part of the Brillouin zone\n",
      "       k-points in crystal coordinates                weights\n",
      "   0:     0.12500000   -0.37500000    0.00000000          2/16\n",
      "   1:     0.12500000   -0.12500000    0.00000000          2/16\n",
      "   2:     0.12500000    0.12500000    0.00000000          2/16\n",
      "   3:     0.12500000    0.37500000    0.00000000          2/16\n",
      "   4:     0.37500000   -0.37500000    0.00000000          2/16\n",
      "   5:     0.37500000   -0.12500000    0.00000000          2/16\n",
      "   6:     0.37500000    0.12500000    0.00000000          2/16\n",
      "   7:     0.37500000    0.37500000    0.00000000          2/16\n",
      "\n",
      "Wave functions: Plane wave expansion\n",
      "  Cutoff energy: 200.000 eV\n",
      "  Number of coefficients (min, max): 665, 717\n",
      "  Pulay-stress correction: 0.000000 eV/Ang^3 (de/decut=0.000000)\n",
      "  Using FFTW library\n",
      "  ScaLapack parameters: grid=1x1, blocksize=None\n",
      "  Wavefunction extrapolation:\n",
      "    Improved wavefunction reuse through dual PAW basis \n",
      "\n",
      "Eigensolver\n",
      "   Davidson(niter=2, smin=None, normalize=True) \n",
      "\n",
      "Densities:\n",
      "  Coarse grid: 7*7*70 grid\n",
      "  Fine grid: 14*14*140 grid\n",
      "  Total Charge: 0.000000 \n",
      "\n",
      "Density mixing:\n",
      "  Method: separate\n",
      "  Backend: pulay\n",
      "  Linear mixing parameter: 0.05\n",
      "  Mixing with 5 old densities\n",
      "  Damping of long wave oscillations: 50 \n",
      "\n",
      "Hamiltonian:\n",
      "  XC and Coulomb potentials evaluated on a 14*14*140 grid\n",
      "  Using the PBE Exchange-Correlation functional\n",
      " \n",
      "\n",
      "XC parameters: PBE with 2 nearest neighbor stencil\n",
      "\n",
      "Memory estimate:\n",
      "  Process memory now: 166.75 MiB\n",
      "  Calculator: 3.12 MiB\n",
      "    Density: 1.06 MiB\n",
      "      Arrays: 0.68 MiB\n",
      "      Localized functions: 0.12 MiB\n",
      "      Mixer: 0.26 MiB\n",
      "    Hamiltonian: 0.46 MiB\n",
      "      Arrays: 0.44 MiB\n",
      "      XC: 0.00 MiB\n",
      "      Poisson: 0.00 MiB\n",
      "      vbar: 0.01 MiB\n",
      "    Wavefunctions: 1.60 MiB\n",
      "      Arrays psit_nG: 0.70 MiB\n",
      "      Eigensolver: 0.15 MiB\n",
      "      Projections: 0.02 MiB\n",
      "      Projectors: 0.51 MiB\n",
      "      PW-descriptor: 0.22 MiB\n",
      "\n",
      "Total number of cores used: 1\n",
      "\n",
      "Number of atoms: 2\n",
      "Number of atomic orbitals: 8\n",
      "Number of bands in calculation: 8\n",
      "Bands to converge: occupied states only\n",
      "Number of valence electrons: 8.0\n",
      "\n",
      "... initialized\n",
      "\n",
      "Initializing position-dependent things.\n",
      "\n",
      "Density initialized from atomic densities\n",
      "Creating initial wave functions:\n",
      "  8 bands from LCAO basis set\n",
      "\n",
      "                 \n",
      "                 \n",
      "                 \n",
      "                 \n",
      "       BN        \n",
      "                 \n",
      "                 \n",
      "                 \n",
      "                 \n",
      "\n",
      "Positions:\n",
      "   0 B      0.628258    0.362725   10.000000    ( 0.0000,  0.0000,  0.0000)\n",
      "   1 N      0.628232    1.813580   10.000000    ( 0.0000,  0.0000,  0.0000)\n",
      "\n",
      "Unit cell:\n",
      "           periodic     x           y           z      points  spacing\n",
      "  1. axis:    yes    2.512980    0.000000    0.000000     7     0.3109\n",
      "  2. axis:    yes   -1.256490    2.176305    0.000000     7     0.3109\n",
      "  3. axis:    yes    0.000000    0.000000   20.000000    70     0.2857\n",
      "\n",
      "  Lengths:   2.512980   2.512980  20.000000\n",
      "  Angles:   90.000000  90.000000 120.000000\n",
      "\n",
      "Effective grid spacing dv^(1/3) = 0.3171\n",
      "\n",
      "                     log10-error:    total        iterations:\n",
      "           time      wfs    density  energy       fermi  poisson\n",
      "iter:   1  18:01:35  +1.82   +inf  -332.764492    0             \n",
      "iter:   2  18:01:35  -1.25  -0.67  -332.762866    0             \n",
      "iter:   3  18:01:36  -0.76  -0.69  -332.792599    1             \n",
      "iter:   4  18:01:36  -2.71  -1.16  -332.708189    0             \n",
      "iter:   5  18:01:36  -1.45  -1.25  -333.031830    0             \n",
      "iter:   6  18:01:36  -1.07  -0.96  -332.616506    0             \n",
      "iter:   7  18:01:36  -1.97  -1.62  -332.603072    0             \n",
      "iter:   8  18:01:36  -2.57  -2.05  -332.601240    0             \n",
      "iter:   9  18:01:36  -3.62  -3.12  -332.601328    0             \n",
      "iter:  10  18:01:37  -4.13  -3.03  -332.601387    0             \n",
      "iter:  11  18:01:37  -5.63  -2.72  -332.601352    0             \n",
      "iter:  12  18:01:37  -6.37  -2.81  -332.601378    0             \n",
      "iter:  13  18:01:37  -5.81  -2.80  -332.601388    0             \n",
      "iter:  14  18:01:37  -6.11  -2.92  -332.601434    0             \n",
      "iter:  15  18:01:38  -4.74  -3.02  -332.601508    0             \n",
      "iter:  16  18:01:38  -6.67  -3.70  -332.601492    0             \n",
      "iter:  17  18:01:38  -6.39  -4.19  -332.601483    0             \n",
      "iter:  18  18:01:38  -6.68  -3.84  -332.601492    0             \n",
      "iter:  19  18:01:38  -7.74  -4.39  -332.601493    0             \n",
      "\n",
      "Converged after 19 iterations.\n",
      "\n",
      "Dipole moment: (-0.653691, 0.731782, 0.000000) |e|*Ang\n",
      "\n",
      "Energy contributions relative to reference atoms: (reference = 0.000000)\n",
      "\n",
      "Kinetic:       +214.264670\n",
      "Potential:     -463.719715\n",
      "External:        +0.000000\n",
      "XC:             -96.754263\n",
      "Entropy (-ST):   -0.000000\n",
      "Local:          +13.607815\n",
      "--------------------------\n",
      "Free energy:   -332.601493\n",
      "Extrapolated:  -332.601493\n",
      "\n",
      "Fermi level: -3.71553\n",
      "\n",
      "Showing only first 2 kpts\n",
      " Kpt  Band  Eigenvalues  Occupancy\n",
      "  0     2     -8.20379    0.25000\n",
      "  0     3     -6.92434    0.25000\n",
      "  0     4      3.47977    0.00000\n",
      "  0     5      3.53191    0.00000\n",
      "\n",
      "  1     2     -6.27322    0.25000\n",
      "  1     3     -5.23535    0.25000\n",
      "  1     4      0.61448    0.00000\n",
      "  1     5      1.61300    0.00000\n",
      "\n",
      "\n",
      "Writing to gs_sg15.gpw (mode='')\n",
      "\n"
     ]
    }
   ],
   "source": [
    "from gpaw import GPAW, FermiDirac\n",
    "from gpaw.wavefunctions.pw import PW\n",
    "from ase.io import read\n",
    "from TDDFT import TDDFT\n",
    "import numpy as np\n",
    "from tqdm import tqdm\n",
    "from ase.units import Hartree, Bohr\n",
    "import matplotlib.pyplot as plt\n",
    "from gpaw.external import ConstantElectricField\n",
    "%matplotlib inline\n",
    "\n",
    "c = 20\n",
    "PW_cut=200\n",
    "atoms = read('hBN.cif')\n",
    "atoms.cell[2,2]=c\n",
    "atoms.center()\n",
    "\n",
    "calc = GPAW(mode=PW(PW_cut),xc='PBE',\n",
    "            kpts={'size': (4, 4, 1)},\n",
    "            setups='sg15',\n",
    "            occupations=FermiDirac(0.0001))\n",
    "\n",
    "atoms.set_calculator(calc)\n",
    "atoms.get_potential_energy()\n",
    "calc.write('gs_sg15.gpw')"
   ]
  },
  {
   "cell_type": "markdown",
   "metadata": {},
   "source": [
    "# Initialization "
   ]
  },
  {
   "cell_type": "code",
   "execution_count": 2,
   "metadata": {},
   "outputs": [
    {
     "name": "stderr",
     "output_type": "stream",
     "text": [
      "100%|██████████| 8/8 [00:00<00:00,  9.50it/s]\n"
     ]
    }
   ],
   "source": [
    "from TDDFT import TDDFT\n",
    "tddft=TDDFT(calc)"
   ]
  },
  {
   "cell_type": "code",
   "execution_count": 3,
   "metadata": {
    "scrolled": true
   },
   "outputs": [
    {
     "name": "stderr",
     "output_type": "stream",
     "text": [
      "100%|██████████| 10000/10000 [00:48<00:00, 207.30it/s]\n"
     ]
    }
   ],
   "source": [
    "dt=1;steps=10000;\n",
    "E=np.zeros(steps);\n",
    "time=np.arange(steps)*dt\n",
    "E=lambda t:1e-4*np.exp(-t/dt)\n",
    "tddft.propagate(dt=dt,steps=steps,E=E,direction=[0,0,1])"
   ]
  },
  {
   "cell_type": "code",
   "execution_count": 5,
   "metadata": {},
   "outputs": [
    {
     "data": {
      "text/plain": [
       "[<matplotlib.lines.Line2D at 0x7f9f65c978d0>]"
      ]
     },
     "execution_count": 5,
     "metadata": {},
     "output_type": "execute_result"
    },
    {
     "data": {
      "image/png": "[encoded data removed]",
      "text/plain": [
       "<Figure size 432x288 with 1 Axes>"
      ]
     },
     "metadata": {
      "needs_background": "light"
     },
     "output_type": "display_data"
    }
   ],
   "source": [
    "plt.plot(time,tddft.P.real)"
   ]
  },
  {
   "cell_type": "code",
   "execution_count": 6,
   "metadata": {},
   "outputs": [
    {
     "data": {
      "image/png": "[encoded data removed]",
      "text/plain": [
       "<Figure size 864x576 with 1 Axes>"
      ]
     },
     "metadata": {
      "needs_background": "light"
     },
     "output_type": "display_data"
    }
   ],
   "source": [
    "spectrum=np.fft.fft(tddft.P)\n",
    "freq = np.fft.fftfreq(steps, d=dt)*2*np.pi*Hartree\n",
    "spectrum=spectrum[np.argsort(freq)]\n",
    "freq=np.sort(freq)\n",
    "spectrum=np.abs(spectrum*freq)**2\n",
    "from scipy.ndimage.filters import gaussian_filter1d\n",
    "plt.figure(figsize=(12,8))\n",
    "# plt.plot(omega*Hartree,epsilon.imag)\n",
    "plt.plot(freq,gaussian_filter1d(spectrum,1),'-')\n",
    "# plt.plot(data[inds_w, 0], 4 * np.pi * data[inds_w, 4],label='real')\n",
    "# plt.legend(loc='best')\n",
    "plt.xlim([0,20])\n",
    "plt.ylim([0,None])\n",
    "plt.grid()\n",
    "plt.savefig('spectrum_.png')"
   ]
  },
  {
   "cell_type": "code",
   "execution_count": 7,
   "metadata": {},
   "outputs": [],
   "source": [
    "nm_to_au=1/(1240*Hartree)\n",
    "fs_to_au=41"
   ]
  },
  {
   "cell_type": "code",
   "execution_count": 13,
   "metadata": {},
   "outputs": [
    {
     "name": "stderr",
     "output_type": "stream",
     "text": [
      "100%|██████████| 10000/10000 [00:49<00:00, 201.43it/s]\n"
     ]
    }
   ],
   "source": [
    "freq=1600*nm_to_au\n",
    "T=15*fs_to_au\n",
    "E0=1e-3\n",
    "\n",
    "dt=1;steps=10000;\n",
    "E=np.zeros(steps);\n",
    "time=np.arange(steps)*dt\n",
    "E=lambda t:E0*np.sin(np.pi*t/T)**2*np.cos(freq*t)*(t<T)\n",
    "tddft.propagate(dt=dt,steps=steps,E=E,direction=[0,0,1])"
   ]
  },
  {
   "cell_type": "code",
   "execution_count": 14,
   "metadata": {},
   "outputs": [
    {
     "data": {
      "text/plain": [
       "[<matplotlib.lines.Line2D at 0x7f9f64018748>]"
      ]
     },
     "execution_count": 14,
     "metadata": {},
     "output_type": "execute_result"
    },
    {
     "data": {
      "image/png": "[encoded data removed]",
      "text/plain": [
       "<Figure size 432x288 with 1 Axes>"
      ]
     },
     "metadata": {
      "needs_background": "light"
     },
     "output_type": "display_data"
    }
   ],
   "source": [
    "plt.plot(time/fs_to_au,E(time))"
   ]
  },
  {
   "cell_type": "code",
   "execution_count": 15,
   "metadata": {},
   "outputs": [
    {
     "data": {
      "text/plain": [
       "[<matplotlib.lines.Line2D at 0x7f9f5fda5320>]"
      ]
     },
     "execution_count": 15,
     "metadata": {},
     "output_type": "execute_result"
    },
    {
     "data": {
      "image/png": "[encoded data removed]",
      "text/plain": [
       "<Figure size 432x288 with 1 Axes>"
      ]
     },
     "metadata": {
      "needs_background": "light"
     },
     "output_type": "display_data"
    }
   ],
   "source": [
    "plt.plot(time/fs_to_au,tddft.P.real)"
   ]
  },
  {
   "cell_type": "code",
   "execution_count": 16,
   "metadata": {},
   "outputs": [
    {
     "name": "stderr",
     "output_type": "stream",
     "text": [
      "/home/drg/.local/lib/python3.6/site-packages/ipykernel_launcher.py:9: RuntimeWarning: divide by zero encountered in log10\n",
      "  if __name__ == '__main__':\n"
     ]
    },
    {
     "data": {
      "image/png": "[encoded data removed]",
      "text/plain": [
       "<Figure size 864x576 with 1 Axes>"
      ]
     },
     "metadata": {
      "needs_background": "light"
     },
     "output_type": "display_data"
    }
   ],
   "source": [
    "spectrum=np.fft.fft(tddft.P)\n",
    "freq = np.fft.fftfreq(steps, d=dt)*2*np.pi*Hartree\n",
    "spectrum=spectrum[np.argsort(freq)]\n",
    "freq=np.sort(freq)\n",
    "spectrum=np.abs(spectrum*freq)**2\n",
    "from scipy.ndimage.filters import gaussian_filter1d\n",
    "plt.figure(figsize=(12,8))\n",
    "# plt.plot(omega*Hartree,epsilon.imag)\n",
    "plt.plot(freq,np.log10(spectrum),'-')\n",
    "# plt.plot(data[inds_w, 0], 4 * np.pi * data[inds_w, 4],label='real')\n",
    "# plt.legend(loc='best')\n",
    "plt.xlim([0,10])\n",
    "# plt.ylim([0,None])\n",
    "plt.grid()\n",
    "plt.savefig('spectrum_.png')"
   ]
  }
 ],
 "metadata": {
  "kernelspec": {
   "display_name": "Python 3",
   "language": "python",
   "name": "python3"
  },
  "language_info": {
   "codemirror_mode": {
    "name": "ipython",
    "version": 3
   },
   "file_extension": ".py",
   "mimetype": "text/x-python",
   "name": "python",
   "nbconvert_exporter": "python",
   "pygments_lexer": "ipython3",
   "version": "3.6.7"
  }
 },
 "nbformat": 4,
 "nbformat_minor": 2
}
